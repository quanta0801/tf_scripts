{
 "cells": [
  {
   "cell_type": "code",
   "execution_count": 1,
   "metadata": {},
   "outputs": [],
   "source": [
    "import tensorflow as tf\n",
    "import iris_data\n",
    "\n",
    "args = {'batch_size': 100, 'train_steps': 2000}"
   ]
  },
  {
   "cell_type": "code",
   "execution_count": 2,
   "metadata": {},
   "outputs": [],
   "source": [
    "def my_model(features, labels, mode, params):\n",
    "    \"\"\"DNN with three hidden layers, and dropout of 0.1 probability.\"\"\"\n",
    "    # Create three fully connected layers each layer having a dropout\n",
    "    # probability of 0.1.\n",
    "    net = tf.feature_column.input_layer(features, params['feature_columns'])\n",
    "    for units in params['hidden_units']:\n",
    "        net = tf.layers.dense(net, units=units, activation=tf.nn.relu)\n",
    "\n",
    "    # Compute logits (1 per class).\n",
    "    logits = tf.layers.dense(net, params['n_classes'], activation=None)\n",
    "\n",
    "    # Compute predictions.\n",
    "    predicted_classes = tf.argmax(logits, 1)\n",
    "    if mode == tf.estimator.ModeKeys.PREDICT:\n",
    "        predictions = {\n",
    "            'class_ids': predicted_classes[:, tf.newaxis],\n",
    "            'probabilities': tf.nn.softmax(logits),\n",
    "            'logits': logits,\n",
    "        }\n",
    "        return tf.estimator.EstimatorSpec(mode, predictions=predictions)\n",
    "\n",
    "    # Compute loss.\n",
    "    loss = tf.losses.sparse_softmax_cross_entropy(labels=labels, logits=logits)\n",
    "\n",
    "    # Compute evaluation metrics.\n",
    "    accuracy = tf.metrics.accuracy(labels=labels,\n",
    "                                   predictions=predicted_classes,\n",
    "                                   name='acc_op')\n",
    "    metrics = {'accuracy': accuracy}\n",
    "    tf.summary.scalar('accuracy', accuracy[1])\n",
    "\n",
    "    if mode == tf.estimator.ModeKeys.EVAL:\n",
    "        return tf.estimator.EstimatorSpec(\n",
    "            mode, loss=loss, eval_metric_ops=metrics)\n",
    "\n",
    "    # Create training op.\n",
    "    assert mode == tf.estimator.ModeKeys.TRAIN\n",
    "\n",
    "    optimizer = tf.train.AdagradOptimizer(learning_rate=0.1)\n",
    "    train_op = optimizer.minimize(loss, global_step=tf.train.get_global_step())\n",
    "    return tf.estimator.EstimatorSpec(mode, loss=loss, train_op=train_op)"
   ]
  },
  {
   "cell_type": "code",
   "execution_count": 3,
   "metadata": {},
   "outputs": [],
   "source": [
    "# Fetch data paths\n",
    "train_path, test_path = iris_data.maybe_download()"
   ]
  },
  {
   "cell_type": "code",
   "execution_count": 4,
   "metadata": {},
   "outputs": [],
   "source": [
    "CSV_COLUMN_NAMES = ['SepalLength', 'SepalWidth',\n",
    "                    'PetalLength', 'PetalWidth']\n",
    "# Feature columns describe how to use the input.\n",
    "my_feature_columns = []\n",
    "for key in CSV_COLUMN_NAMES:\n",
    "    my_feature_columns.append(tf.feature_column.numeric_column(key=key))"
   ]
  },
  {
   "cell_type": "code",
   "execution_count": 5,
   "metadata": {},
   "outputs": [
    {
     "name": "stdout",
     "output_type": "stream",
     "text": [
      "INFO:tensorflow:Using config: {'_model_dir': 'models/iris_custom', '_tf_random_seed': None, '_save_summary_steps': 100, '_save_checkpoints_steps': None, '_save_checkpoints_secs': 1, '_session_config': None, '_keep_checkpoint_max': 10, '_keep_checkpoint_every_n_hours': 10000, '_log_step_count_steps': 100, '_train_distribute': None, '_service': None, '_cluster_spec': <tensorflow.python.training.server_lib.ClusterSpec object at 0x7f9902e91d68>, '_task_type': 'worker', '_task_id': 0, '_global_id_in_cluster': 0, '_master': '', '_evaluation_master': '', '_is_chief': True, '_num_ps_replicas': 0, '_num_worker_replicas': 1}\n"
     ]
    }
   ],
   "source": [
    "my_checkpointing_config = tf.estimator.RunConfig(\n",
    "    # save_checkpoints_steps = 250, # Save checkpoints every 250 steps\n",
    "    save_checkpoints_secs = 1,  # Save checkpoints every 20 minutes.\n",
    "    keep_checkpoint_max = 10,       # Retain the 10 most recent checkpoints.\n",
    ")\n",
    "# Build 2 hidden layer DNN with 10, 10 units respectively.\n",
    "classifier = tf.estimator.Estimator(\n",
    "    model_fn=my_model,\n",
    "    model_dir=\"models/iris_custom\",\n",
    "    params={\n",
    "        'feature_columns': my_feature_columns,\n",
    "        # Two hidden layers of 10 nodes each.\n",
    "        'hidden_units': [10, 10],\n",
    "        # The model must choose between 3 classes.\n",
    "        'n_classes': 3,\n",
    "    },\n",
    "    # Checkpoint config\n",
    "    config=my_checkpointing_config)"
   ]
  },
  {
   "cell_type": "code",
   "execution_count": 6,
   "metadata": {},
   "outputs": [
    {
     "name": "stdout",
     "output_type": "stream",
     "text": [
      "INFO:tensorflow:Calling model_fn.\n",
      "INFO:tensorflow:Done calling model_fn.\n",
      "INFO:tensorflow:Create CheckpointSaverHook.\n",
      "INFO:tensorflow:Graph was finalized.\n",
      "INFO:tensorflow:Running local_init_op.\n",
      "INFO:tensorflow:Done running local_init_op.\n",
      "INFO:tensorflow:Saving checkpoints for 1 into models/iris_custom/model.ckpt.\n",
      "INFO:tensorflow:loss = 1.3081301, step = 0\n",
      "INFO:tensorflow:global_step/sec: 230.365\n",
      "INFO:tensorflow:loss = 0.14116025, step = 100 (0.435 sec)\n",
      "INFO:tensorflow:global_step/sec: 268.316\n",
      "INFO:tensorflow:loss = 0.04915283, step = 200 (0.372 sec)\n",
      "INFO:tensorflow:Saving checkpoints for 229 into models/iris_custom/model.ckpt.\n",
      "INFO:tensorflow:global_step/sec: 240.315\n",
      "INFO:tensorflow:loss = 0.04774713, step = 300 (0.416 sec)\n",
      "INFO:tensorflow:global_step/sec: 263.503\n",
      "INFO:tensorflow:loss = 0.1273242, step = 400 (0.380 sec)\n",
      "INFO:tensorflow:Saving checkpoints for 485 into models/iris_custom/model.ckpt.\n",
      "INFO:tensorflow:global_step/sec: 237.608\n",
      "INFO:tensorflow:loss = 0.07905531, step = 500 (0.421 sec)\n",
      "INFO:tensorflow:global_step/sec: 265.577\n",
      "INFO:tensorflow:loss = 0.057380937, step = 600 (0.376 sec)\n",
      "INFO:tensorflow:global_step/sec: 266.16\n",
      "INFO:tensorflow:loss = 0.08066258, step = 700 (0.376 sec)\n",
      "INFO:tensorflow:Saving checkpoints for 739 into models/iris_custom/model.ckpt.\n",
      "INFO:tensorflow:global_step/sec: 237.371\n",
      "INFO:tensorflow:loss = 0.079804, step = 800 (0.421 sec)\n",
      "INFO:tensorflow:global_step/sec: 262.498\n",
      "INFO:tensorflow:loss = 0.060926944, step = 900 (0.381 sec)\n",
      "INFO:tensorflow:Saving checkpoints for 993 into models/iris_custom/model.ckpt.\n",
      "INFO:tensorflow:global_step/sec: 236.684\n",
      "INFO:tensorflow:loss = 0.06011499, step = 1000 (0.423 sec)\n",
      "INFO:tensorflow:global_step/sec: 262.413\n",
      "INFO:tensorflow:loss = 0.058095563, step = 1100 (0.381 sec)\n",
      "INFO:tensorflow:global_step/sec: 245.021\n",
      "INFO:tensorflow:loss = 0.06041047, step = 1200 (0.408 sec)\n",
      "INFO:tensorflow:Saving checkpoints for 1231 into models/iris_custom/model.ckpt.\n",
      "INFO:tensorflow:global_step/sec: 225.332\n",
      "INFO:tensorflow:loss = 0.057631224, step = 1300 (0.444 sec)\n",
      "INFO:tensorflow:global_step/sec: 264.373\n",
      "INFO:tensorflow:loss = 0.061773952, step = 1400 (0.378 sec)\n",
      "INFO:tensorflow:Saving checkpoints for 1486 into models/iris_custom/model.ckpt.\n",
      "INFO:tensorflow:global_step/sec: 240.866\n",
      "INFO:tensorflow:loss = 0.048739582, step = 1500 (0.415 sec)\n",
      "INFO:tensorflow:global_step/sec: 256.387\n",
      "INFO:tensorflow:loss = 0.033604644, step = 1600 (0.390 sec)\n",
      "INFO:tensorflow:global_step/sec: 249.527\n",
      "INFO:tensorflow:loss = 0.08735303, step = 1700 (0.401 sec)\n",
      "INFO:tensorflow:Saving checkpoints for 1730 into models/iris_custom/model.ckpt.\n",
      "INFO:tensorflow:global_step/sec: 238.222\n",
      "INFO:tensorflow:loss = 0.050973367, step = 1800 (0.420 sec)\n",
      "INFO:tensorflow:global_step/sec: 264.979\n",
      "INFO:tensorflow:loss = 0.06900399, step = 1900 (0.378 sec)\n",
      "INFO:tensorflow:Saving checkpoints for 1982 into models/iris_custom/model.ckpt.\n",
      "INFO:tensorflow:Saving checkpoints for 2000 into models/iris_custom/model.ckpt.\n",
      "INFO:tensorflow:Loss for final step: 0.048509933.\n"
     ]
    },
    {
     "data": {
      "text/plain": [
       "<tensorflow.python.estimator.estimator.Estimator at 0x7f9902e91ba8>"
      ]
     },
     "execution_count": 6,
     "metadata": {},
     "output_type": "execute_result"
    }
   ],
   "source": [
    "# Train the Model.\n",
    "classifier.train(\n",
    "    input_fn=lambda:iris_data.csv_input_fn(train_path, args[\"batch_size\"]),\n",
    "    steps=args[\"train_steps\"])"
   ]
  },
  {
   "cell_type": "code",
   "execution_count": 7,
   "metadata": {},
   "outputs": [
    {
     "name": "stdout",
     "output_type": "stream",
     "text": [
      "INFO:tensorflow:Calling model_fn.\n",
      "INFO:tensorflow:Done calling model_fn.\n",
      "INFO:tensorflow:Starting evaluation at 2018-07-09-11:50:20\n",
      "INFO:tensorflow:Graph was finalized.\n",
      "INFO:tensorflow:Restoring parameters from models/iris_custom/model.ckpt-2000\n",
      "INFO:tensorflow:Running local_init_op.\n",
      "INFO:tensorflow:Done running local_init_op.\n",
      "INFO:tensorflow:Finished evaluation at 2018-07-09-11:50:21\n",
      "INFO:tensorflow:Saving dict for global step 2000: accuracy = 0.96666664, global_step = 2000, loss = 0.053501632\n",
      "\n",
      "Test set accuracy: 0.967\n",
      "\n"
     ]
    }
   ],
   "source": [
    "# Evaluate the model.\n",
    "eval_result = classifier.evaluate(\n",
    "    input_fn=lambda:iris_data.csv_eval_input_fn(test_path, args[\"batch_size\"]))\n",
    "\n",
    "print('\\nTest set accuracy: {accuracy:0.3f}\\n'.format(**eval_result))"
   ]
  },
  {
   "cell_type": "code",
   "execution_count": 8,
   "metadata": {},
   "outputs": [
    {
     "name": "stdout",
     "output_type": "stream",
     "text": [
      "INFO:tensorflow:Calling model_fn.\n",
      "INFO:tensorflow:Done calling model_fn.\n",
      "INFO:tensorflow:Graph was finalized.\n",
      "INFO:tensorflow:Restoring parameters from models/iris_custom/model.ckpt-2000\n",
      "INFO:tensorflow:Running local_init_op.\n",
      "INFO:tensorflow:Done running local_init_op.\n",
      "\n",
      "Prediction is \"Setosa\" (99.9%), expected \"Setosa\"\n",
      "\n",
      "Prediction is \"Versicolor\" (99.9%), expected \"Versicolor\"\n",
      "\n",
      "Prediction is \"Virginica\" (99.5%), expected \"Virginica\"\n"
     ]
    }
   ],
   "source": [
    "# Generate predictions from the model\n",
    "expected = ['Setosa', 'Versicolor', 'Virginica']\n",
    "predict_x = {\n",
    "    'SepalLength': [5.1, 5.9, 6.9],\n",
    "    'SepalWidth': [3.3, 3.0, 3.1],\n",
    "    'PetalLength': [1.7, 4.2, 5.4],\n",
    "    'PetalWidth': [0.5, 1.5, 2.1],\n",
    "}\n",
    "\n",
    "predictions = classifier.predict(\n",
    "    input_fn=lambda:iris_data.eval_input_fn(predict_x,\n",
    "                                            labels=None,\n",
    "                                            batch_size=args['batch_size']))\n",
    "\n",
    "for pred_dict, expec in zip(predictions, expected):\n",
    "    template = ('\\nPrediction is \"{}\" ({:.1f}%), expected \"{}\"')\n",
    "\n",
    "    class_id = pred_dict['class_ids'][0]\n",
    "    probability = pred_dict['probabilities'][class_id]\n",
    "\n",
    "    print(template.format(iris_data.SPECIES[class_id],\n",
    "                          100 * probability, expec))"
   ]
  }
 ],
 "metadata": {
  "kernelspec": {
   "display_name": "Python 3",
   "language": "python",
   "name": "python3"
  },
  "language_info": {
   "codemirror_mode": {
    "name": "ipython",
    "version": 3
   },
   "file_extension": ".py",
   "mimetype": "text/x-python",
   "name": "python",
   "nbconvert_exporter": "python",
   "pygments_lexer": "ipython3",
   "version": "3.6.6"
  }
 },
 "nbformat": 4,
 "nbformat_minor": 2
}
